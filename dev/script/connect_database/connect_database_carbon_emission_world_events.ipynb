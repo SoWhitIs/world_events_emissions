{
 "cells": [
  {
   "cell_type": "markdown",
   "metadata": {},
   "source": [
    "#### Database Connection \n",
    "\n",
    "Datasets to connect:\n",
    "* great_recession_dp\n",
    "* pre_covid.csv\n",
    "* co2_emissions_type.csv\n",
    "* region_df.csv\n",
    "\n",
    "Database: PostgreSQL\n",
    " * Create database\n",
    " * Create tables schema, primary key\n",
    " * Connect to database"
   ]
  },
  {
   "cell_type": "code",
   "execution_count": null,
   "metadata": {},
   "outputs": [],
   "source": []
  }
 ],
 "metadata": {
  "kernelspec": {
   "display_name": "PythonData",
   "language": "python",
   "name": "pythondata"
  },
  "language_info": {
   "codemirror_mode": {
    "name": "ipython",
    "version": 3
   },
   "file_extension": ".py",
   "mimetype": "text/x-python",
   "name": "python",
   "nbconvert_exporter": "python",
   "pygments_lexer": "ipython3",
   "version": "3.7.9"
  }
 },
 "nbformat": 4,
 "nbformat_minor": 4
}
